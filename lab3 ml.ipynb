{
  "nbformat": 4,
  "nbformat_minor": 0,
  "metadata": {
    "colab": {
      "provenance": []
    },
    "kernelspec": {
      "name": "python3",
      "display_name": "Python 3"
    },
    "language_info": {
      "name": "python"
    }
  },
  "cells": [
    {
      "cell_type": "code",
      "source": [
        "#Q1)\n",
        "import numpy as np\n",
        "import pandas as pd\n",
        "\n",
        "try:\n",
        "    data = pd.read_csv('/content/online+shoppers+purchasing+intention+dataset.zip', compression='zip')\n",
        "    X = data.drop('Revenue', axis=1)\n",
        "    y = data['Revenue']\n",
        "except FileNotFoundError:\n",
        "    print(\"Error: File not found. Please check the file path.\")\n",
        "    exit()\n",
        "except KeyError:\n",
        "    print(\"Error: 'Revenue' column not found. Please check the target column name.\")\n",
        "    exit()\n",
        "except Exception as e:\n",
        "    print(f\"An unexpected error occurred: {e}\")\n",
        "    exit()\n",
        "\n",
        "class_1 = X[y == False].select_dtypes(include=np.number)\n",
        "class_2 = X[y == True].select_dtypes(include=np.number)\n",
        "\n",
        "centroid_1 = np.mean(class_1, axis=0)\n",
        "centroid_2 = np.mean(class_2, axis=0)\n",
        "\n",
        "spread_1 = np.std(class_1, axis=0)\n",
        "spread_2 = np.std(class_2, axis=0)\n",
        "\n",
        "interclass_distance = np.linalg.norm(centroid_1 - centroid_2)\n",
        "\n",
        "print(\"Class 1 (Non-purchasers) Centroid:\", centroid_1)\n",
        "print(\"Class 2 (Purchasers) Centroid:\", centroid_2)\n",
        "print(\"Class 1 (Non-purchasers) Spread (Std Dev):\", spread_1)\n",
        "print(\"Class 2 (Purchasers) Spread (Std Dev):\", spread_2)\n",
        "print(\"Interclass Distance:\", interclass_distance)"
      ],
      "metadata": {
        "colab": {
          "base_uri": "https://localhost:8080/"
        },
        "id": "8bjeB11VRXdF",
        "outputId": "edff9815-b662-4e7f-bc51-3c060d74b060"
      },
      "execution_count": 4,
      "outputs": [
        {
          "output_type": "stream",
          "name": "stdout",
          "text": [
            "Class 1 (Non-purchasers) Centroid: Administrative                2.117732\n",
            "Administrative_Duration      73.740111\n",
            "Informational                 0.451833\n",
            "Informational_Duration       30.236237\n",
            "ProductRelated               28.714642\n",
            "ProductRelated_Duration    1069.987809\n",
            "BounceRates                   0.025317\n",
            "ExitRates                     0.047378\n",
            "PageValues                    1.975998\n",
            "SpecialDay                    0.068432\n",
            "OperatingSystems              2.129726\n",
            "Browser                       2.339474\n",
            "Region                        3.159278\n",
            "TrafficType                   4.078392\n",
            "dtype: float64\n",
            "Class 2 (Purchasers) Centroid: Administrative                3.393606\n",
            "Administrative_Duration     119.483244\n",
            "Informational                 0.786164\n",
            "Informational_Duration       57.611427\n",
            "ProductRelated               48.210168\n",
            "ProductRelated_Duration    1876.209615\n",
            "BounceRates                   0.005117\n",
            "ExitRates                     0.019555\n",
            "PageValues                   27.264518\n",
            "SpecialDay                    0.023166\n",
            "OperatingSystems              2.092767\n",
            "Browser                       2.453354\n",
            "Region                        3.082285\n",
            "TrafficType                   4.021488\n",
            "dtype: float64\n",
            "Class 1 (Non-purchasers) Spread (Std Dev): Administrative                3.202327\n",
            "Administrative_Duration     171.009765\n",
            "Informational                 1.211524\n",
            "Informational_Duration      133.902882\n",
            "ProductRelated               40.742762\n",
            "ProductRelated_Duration    1803.711217\n",
            "BounceRates                   0.051875\n",
            "ExitRates                     0.051229\n",
            "PageValues                    9.071988\n",
            "SpecialDay                    0.209044\n",
            "OperatingSystems              0.907791\n",
            "Browser                       1.681709\n",
            "Region                        2.400377\n",
            "TrafficType                   4.032027\n",
            "dtype: float64\n",
            "Class 2 (Purchasers) Spread (Std Dev): Administrative                3.729550\n",
            "Administrative_Duration     201.062022\n",
            "Informational                 1.520778\n",
            "Informational_Duration      171.574152\n",
            "ProductRelated               58.252094\n",
            "ProductRelated_Duration    2311.608386\n",
            "BounceRates                   0.012181\n",
            "ExitRates                     0.016459\n",
            "PageValues                   35.182731\n",
            "SpecialDay                    0.123489\n",
            "OperatingSystems              0.929535\n",
            "Browser                       1.896544\n",
            "Region                        2.406543\n",
            "TrafficType                   3.986095\n",
            "dtype: float64\n",
            "Interclass Distance: 808.6141146289909\n"
          ]
        }
      ]
    },
    {
      "cell_type": "code",
      "source": [
        "#Q2)\n",
        "import numpy as np\n",
        "import pandas as pd\n",
        "import matplotlib.pyplot as plt\n",
        "\n",
        "try:\n",
        "    data = pd.read_csv('/content/online+shoppers+purchasing+intention+dataset.zip', compression='zip')\n",
        "    X = data.drop('Revenue', axis=1)\n",
        "    y = data['Revenue']\n",
        "except FileNotFoundError:\n",
        "    print(\"Error: File not found. Please check the file path.\")\n",
        "    exit()\n",
        "except KeyError:\n",
        "    print(\"Error: 'Revenue' column not found. Please check the target column name.\")\n",
        "    exit()\n",
        "except Exception as e:\n",
        "    print(f\"An unexpected error occurred: {e}\")\n",
        "    exit()\n",
        "\n",
        "\n",
        "feature_data = X['Administrative']\n",
        "\n",
        "hist, bins = np.histogram(feature_data, bins=10)  # 10 buckets\n",
        "\n",
        "\n",
        "plt.hist(feature_data, bins=bins, edgecolor='black')\n",
        "plt.title('Histogram of Administrative Feature')\n",
        "plt.xlabel('Administrative')\n",
        "plt.ylabel('Frequency')\n",
        "plt.show()\n",
        "\n",
        "mean = np.mean(feature_data)\n",
        "variance = np.var(feature_data)\n",
        "\n",
        "print(f\"Mean of Administrative feature: {mean}\")\n",
        "print(f\"Variance of Administrative feature: {variance}\")"
      ],
      "metadata": {
        "colab": {
          "base_uri": "https://localhost:8080/",
          "height": 507
        },
        "id": "3Zm6pwotRerH",
        "outputId": "e9f4f605-9ef4-4342-e6fd-13c29a932a78"
      },
      "execution_count": 5,
      "outputs": [
        {
          "output_type": "display_data",
          "data": {
            "text/plain": [
              "<Figure size 640x480 with 1 Axes>"
            ],
            "image/png": "[encoded data removed]"
          },
          "metadata": {}
        },
        {
          "output_type": "stream",
          "name": "stdout",
          "text": [
            "Mean of Administrative feature: 2.3151662611516626\n",
            "Variance of Administrative feature: 11.033354737157387\n"
          ]
        }
      ]
    },
    {
      "cell_type": "code",
      "source": [
        "#Q3)\n",
        "import numpy as np\n",
        "import pandas as pd\n",
        "import matplotlib.pyplot as plt\n",
        "\n",
        "\n",
        "try:\n",
        "    data = pd.read_csv('/content/online+shoppers+purchasing+intention+dataset.zip', compression='zip')\n",
        "    X = data.drop('Revenue', axis=1)\n",
        "    y = data['Revenue']\n",
        "except FileNotFoundError:\n",
        "    print(\"Error: File not found. Please check the file path.\")\n",
        "    exit()\n",
        "except KeyError:\n",
        "    print(\"Error: 'Revenue' column not found. Please check the target column name.\")\n",
        "    exit()\n",
        "except Exception as e:\n",
        "    print(f\"An unexpected error occurred: {e}\")\n",
        "    exit()\n",
        "\n",
        "X = X.select_dtypes(include=np.number)\n",
        "\n",
        "vector1 = X.iloc[0].values\n",
        "vector2 = X.iloc[1].values\n",
        "\n",
        "distances = []\n",
        "r_values = range(1, 11)\n",
        "for r in r_values:\n",
        "    distance = np.sum(np.abs(vector1 - vector2)**r)**(1/r)\n",
        "    distances.append(distance)\n",
        "\n",
        "plt.plot(r_values, distances, marker='o')\n",
        "plt.title('Minkowski Distance vs. r')\n",
        "plt.xlabel('r')\n",
        "plt.ylabel('Distance')\n",
        "plt.grid(True)\n",
        "plt.show()"
      ],
      "metadata": {
        "colab": {
          "base_uri": "https://localhost:8080/",
          "height": 472
        },
        "id": "rdo6SXazS4Vo",
        "outputId": "a4f9cb52-fbe3-453b-b8a9-8ab6ec81cc7c"
      },
      "execution_count": 7,
      "outputs": [
        {
          "output_type": "display_data",
          "data": {
            "text/plain": [
              "<Figure size 640x480 with 1 Axes>"
            ],
            "image/png": "[encoded data removed]"
          },
          "metadata": {}
        }
      ]
    },
    {
      "cell_type": "code",
      "source": [
        "#Q4)\n",
        "import pandas as pd\n",
        "from sklearn.model_selection import train_test_split\n",
        "\n",
        "try:\n",
        "    data = pd.read_csv('/content/online+shoppers+purchasing+intention+dataset.zip', compression='zip')\n",
        "    X = data.drop('Revenue', axis=1)\n",
        "    y = data['Revenue']\n",
        "except FileNotFoundError:\n",
        "    print(\"Error: File not found. Please check the file path.\")\n",
        "    exit()\n",
        "except KeyError:\n",
        "    print(\"Error: 'Revenue' column not found. Please check the target column name.\")\n",
        "    exit()\n",
        "except Exception as e:\n",
        "    print(f\"An unexpected error occurred: {e}\")\n",
        "    exit()\n",
        "\n",
        "X_two_classes = X[y.isin([True, False])]\n",
        "y_two_classes = y[y.isin([True, False])]\n",
        "\n",
        "X_train, X_test, y_train, y_test = train_test_split(\n",
        "    X_two_classes, y_two_classes, test_size=0.3, random_state=42  # 30% for testing\n",
        ")\n",
        "\n",
        "print(\"Train set shape:\", X_train.shape)\n",
        "print(\"Test set shape:\", X_test.shape)"
      ],
      "metadata": {
        "colab": {
          "base_uri": "https://localhost:8080/"
        },
        "id": "X8hgiSCrTMjx",
        "outputId": "18c699ed-a86d-4f9c-b22f-55b78bd3663a"
      },
      "execution_count": 8,
      "outputs": [
        {
          "output_type": "stream",
          "name": "stdout",
          "text": [
            "Train set shape: (8631, 17)\n",
            "Test set shape: (3699, 17)\n"
          ]
        }
      ]
    },
    {
      "cell_type": "code",
      "source": [
        "#Q5)\n",
        "import pandas as pd\n",
        "from sklearn.model_selection import train_test_split\n",
        "from sklearn.neighbors import KNeighborsClassifier\n",
        "from sklearn.preprocessing import StandardScaler\n",
        "\n",
        "try:\n",
        "    data = pd.read_csv('/content/online+shoppers+purchasing+intention+dataset.zip', compression='zip')\n",
        "    X = data.drop('Revenue', axis=1)\n",
        "    y = data['Revenue']\n",
        "except FileNotFoundError:\n",
        "    print(\"Error: File not found. Please check the file path.\")\n",
        "    exit()\n",
        "except KeyError:\n",
        "    print(\"Error: 'Revenue' column not found. Please check the target column name.\")\n",
        "    exit()\n",
        "except Exception as e:\n",
        "    print(f\"An unexpected error occurred: {e}\")\n",
        "    exit()\n",
        "\n",
        "X_two_classes = X[y.isin([True, False])]\n",
        "y_two_classes = y[y.isin([True, False])]\n",
        "\n",
        "X_train, X_test, y_train, y_test = train_test_split(\n",
        "    X_two_classes, y_two_classes, test_size=0.3, random_state=42\n",
        ")\n",
        "\n",
        "\n",
        "scaler = StandardScaler()\n",
        "X_train = scaler.fit_transform(X_train.select_dtypes(include=np.number))\n",
        "X_test = scaler.transform(X_test.select_dtypes(include=np.number))\n",
        "\n",
        "knn_classifier = KNeighborsClassifier(n_neighbors=3)\n",
        "knn_classifier.fit(X_train, y_train)\n",
        "\n",
        "print(\"kNN classifier with k=3 successfully trained on the training set.\")"
      ],
      "metadata": {
        "colab": {
          "base_uri": "https://localhost:8080/"
        },
        "id": "oZriyQsoTRcS",
        "outputId": "0b809c8f-497d-4894-f75b-2e5ce406f22a"
      },
      "execution_count": 9,
      "outputs": [
        {
          "output_type": "stream",
          "name": "stdout",
          "text": [
            "kNN classifier with k=3 successfully trained on the training set.\n"
          ]
        }
      ]
    },
    {
      "cell_type": "code",
      "source": [
        "#Q6)\n",
        "import pandas as pd\n",
        "import numpy as np\n",
        "from sklearn.model_selection import train_test_split\n",
        "from sklearn.neighbors import KNeighborsClassifier\n",
        "from sklearn.preprocessing import StandardScaler\n",
        "from sklearn.metrics import accuracy_score\n",
        "\n",
        "try:\n",
        "    data = pd.read_csv('/content/online+shoppers+purchasing+intention+dataset.zip', compression='zip')\n",
        "    X = data.drop('Revenue', axis=1)\n",
        "    y = data['Revenue']\n",
        "except FileNotFoundError:\n",
        "    print(\"Error: File not found. Please check the file path.\")\n",
        "    exit()\n",
        "except KeyError:\n",
        "    print(\"Error: 'Revenue' column not found. Please check the target column name.\")\n",
        "    exit()\n",
        "except Exception as e:\n",
        "    print(f\"An unexpected error occurred: {e}\")\n",
        "    exit()\n",
        "\n",
        "X_two_classes = X[y.isin([True, False])]\n",
        "y_two_classes = y[y.isin([True, False])]\n",
        "\n",
        "X_train, X_test, y_train, y_test = train_test_split(\n",
        "    X_two_classes, y_two_classes, test_size=0.3, random_state=42\n",
        ")\n",
        "\n",
        "scaler = StandardScaler()\n",
        "X_train = scaler.fit_transform(X_train.select_dtypes(include=np.number))\n",
        "X_test = scaler.transform(X_test.select_dtypes(include=np.number))\n",
        "\n",
        "knn_classifier = KNeighborsClassifier(n_neighbors=3)\n",
        "knn_classifier.fit(X_train, y_train)\n",
        "\n",
        "y_pred = knn_classifier.predict(X_test)\n",
        "accuracy = accuracy_score(y_test, y_pred)\n",
        "\n",
        "print(f\"Accuracy of the kNN classifier (k=3): {accuracy}\")"
      ],
      "metadata": {
        "colab": {
          "base_uri": "https://localhost:8080/"
        },
        "id": "7NA4AaZtT8i2",
        "outputId": "7805d9e4-081c-4194-dabc-188268e58b35"
      },
      "execution_count": 10,
      "outputs": [
        {
          "output_type": "stream",
          "name": "stdout",
          "text": [
            "Accuracy of the kNN classifier (k=3): 0.8759124087591241\n"
          ]
        }
      ]
    },
    {
      "cell_type": "code",
      "source": [
        "#Q7)\n",
        "import pandas as pd\n",
        "import numpy as np\n",
        "from sklearn.model_selection import train_test_split\n",
        "from sklearn.neighbors import KNeighborsClassifier\n",
        "from sklearn.preprocessing import StandardScaler\n",
        "\n",
        "try:\n",
        "    data = pd.read_csv('/content/online+shoppers+purchasing+intention+dataset.zip', compression='zip')\n",
        "    X = data.drop('Revenue', axis=1)\n",
        "    y = data['Revenue']\n",
        "except FileNotFoundError:\n",
        "    print(\"Error: File not found. Please check the file path.\")\n",
        "    exit()\n",
        "except KeyError:\n",
        "    print(\"Error: 'Revenue' column not found. Please check the target column name.\")\n",
        "    exit()\n",
        "except Exception as e:\n",
        "    print(f\"An unexpected error occurred: {e}\")\n",
        "    exit()\n",
        "\n",
        "X_two_classes = X[y.isin([True, False])]\n",
        "y_two_classes = y[y.isin([True, False])]\n",
        "\n",
        "X_train, X_test, y_train, y_test = train_test_split(\n",
        "    X_two_classes, y_two_classes, test_size=0.3, random_state=42\n",
        ")\n",
        "\n",
        "scaler = StandardScaler()\n",
        "X_train = scaler.fit_transform(X_train.select_dtypes(include=np.number))\n",
        "X_test = scaler.transform(X_test.select_dtypes(include=np.number))\n",
        "\n",
        "knn_classifier = KNeighborsClassifier(n_neighbors=3)\n",
        "knn_classifier.fit(X_train, y_train)\n",
        "\n",
        "y_pred_test = knn_classifier.predict(X_test)\n",
        "print(\"Predictions for the test set:\\n\", y_pred_test)\n",
        "\n",
        "test_vector_index = 0\n",
        "test_vector = X_test[test_vector_index]\n",
        "predicted_class = knn_classifier.predict([test_vector])\n",
        "\n",
        "print(f\"\\nPredicted class for the test vector at index {test_vector_index}: {predicted_class[0]}\")"
      ],
      "metadata": {
        "colab": {
          "base_uri": "https://localhost:8080/"
        },
        "id": "u_ablFNUUhXh",
        "outputId": "17339c67-3413-4ed7-ef6e-819b02cfb60b"
      },
      "execution_count": 11,
      "outputs": [
        {
          "output_type": "stream",
          "name": "stdout",
          "text": [
            "Predictions for the test set:\n",
            " [False  True False ... False  True False]\n",
            "\n",
            "Predicted class for the test vector at index 0: False\n"
          ]
        }
      ]
    },
    {
      "cell_type": "code",
      "source": [
        "#Q8)\n",
        "import pandas as pd\n",
        "import numpy as np\n",
        "from sklearn.model_selection import train_test_split\n",
        "from sklearn.neighbors import KNeighborsClassifier\n",
        "from sklearn.preprocessing import StandardScaler\n",
        "from sklearn.metrics import accuracy_score\n",
        "import matplotlib.pyplot as plt\n",
        "\n",
        "try:\n",
        "    data = pd.read_csv('/content/online+shoppers+purchasing+intention+dataset.zip', compression='zip')\n",
        "    X = data.drop('Revenue', axis=1)\n",
        "    y = data['Revenue']\n",
        "except FileNotFoundError:\n",
        "    print(\"Error: File not found. Please check the file path.\")\n",
        "    exit()\n",
        "except KeyError:\n",
        "    print(\"Error: 'Revenue' column not found. Please check the target column name.\")\n",
        "    exit()\n",
        "except Exception as e:\n",
        "    print(f\"An unexpected error occurred: {e}\")\n",
        "    exit()\n",
        "\n",
        "X_two_classes = X[y.isin([True, False])]\n",
        "y_two_classes = y[y.isin([True, False])]\n",
        "\n",
        "X_train, X_test, y_train, y_test = train_test_split(\n",
        "    X_two_classes, y_two_classes, test_size=0.3, random_state=42\n",
        ")\n",
        "\n",
        "scaler = StandardScaler()\n",
        "X_train_scaled = scaler.fit_transform(X_train.select_dtypes(include=np.number))\n",
        "X_test_scaled = scaler.transform(X_test.select_dtypes(include=np.number))\n",
        "\n",
        "nn_classifier = KNeighborsClassifier(n_neighbors=1)\n",
        "nn_classifier.fit(X_train_scaled, y_train)\n",
        "y_pred_nn = nn_classifier.predict(X_test_scaled)\n",
        "accuracy_nn = accuracy_score(y_test, y_pred_nn)\n",
        "print(f\"Accuracy of NN classifier (k=1): {accuracy_nn}\")\n",
        "\n",
        "knn_classifier = KNeighborsClassifier(n_neighbors=3)\n",
        "knn_classifier.fit(X_train_scaled, y_train)\n",
        "y_pred_knn = knn_classifier.predict(X_test_scaled)\n",
        "accuracy_knn = accuracy_score(y_test, y_pred_knn)\n",
        "print(f\"Accuracy of kNN classifier (k=3): {accuracy_knn}\")\n",
        "\n",
        "k_values = range(1, 12)\n",
        "accuracies = []\n",
        "for k in k_values:\n",
        "    classifier = KNeighborsClassifier(n_neighbors=k)\n",
        "    classifier.fit(X_train_scaled, y_train)\n",
        "    y_pred = classifier.predict(X_test_scaled)\n",
        "    accuracy = accuracy_score(y_test, y_pred)\n",
        "    accuracies.append(accuracy)\n",
        "\n",
        "plt.plot(k_values, accuracies, marker='o')\n",
        "plt.title('Accuracy vs. k Value')\n",
        "plt.xlabel('k')\n",
        "plt.ylabel('Accuracy')\n",
        "plt.grid(True)\n",
        "plt.show()"
      ],
      "metadata": {
        "colab": {
          "base_uri": "https://localhost:8080/",
          "height": 507
        },
        "id": "WZiuuLbJV3qj",
        "outputId": "f5546622-1750-4c8c-f9be-07b15d29865a"
      },
      "execution_count": 12,
      "outputs": [
        {
          "output_type": "stream",
          "name": "stdout",
          "text": [
            "Accuracy of NN classifier (k=1): 0.8453636117869695\n",
            "Accuracy of kNN classifier (k=3): 0.8759124087591241\n"
          ]
        },
        {
          "output_type": "display_data",
          "data": {
            "text/plain": [
              "<Figure size 640x480 with 1 Axes>"
            ],
            "image/png": "[encoded data removed]"
          },
          "metadata": {}
        }
      ]
    },
    {
      "cell_type": "code",
      "source": [
        "#Q9)\n",
        "import pandas as pd\n",
        "import numpy as np\n",
        "from sklearn.model_selection import train_test_split\n",
        "from sklearn.neighbors import KNeighborsClassifier\n",
        "from sklearn.preprocessing import StandardScaler\n",
        "from sklearn.metrics import confusion_matrix, classification_report\n",
        "\n",
        "try:\n",
        "    data = pd.read_csv('/content/online+shoppers+purchasing+intention+dataset.zip', compression='zip')\n",
        "    X = data.drop('Revenue', axis=1)\n",
        "    y = data['Revenue']\n",
        "except FileNotFoundError:\n",
        "    print(\"Error: File not found. Please check the file path.\")\n",
        "    exit()\n",
        "except KeyError:\n",
        "    print(\"Error: 'Revenue' column not found. Please check the target column name.\")\n",
        "    exit()\n",
        "except Exception as e:\n",
        "    print(f\"An unexpected error occurred: {e}\")\n",
        "    exit()\n",
        "\n",
        "X_two_classes = X[y.isin([True, False])]\n",
        "y_two_classes = y[y.isin([True, False])]\n",
        "\n",
        "\n",
        "X_train, X_test, y_train, y_test = train_test_split(X_two_classes, y_two_classes, test_size=0.3, random_state=42)\n",
        "\n",
        "numerical_features = X_train.select_dtypes(include=np.number).columns\n",
        "X_train_numerical = X_train[numerical_features]\n",
        "X_test_numerical = X_test[numerical_features]\n",
        "\n",
        "scaler = StandardScaler()\n",
        "X_train_scaled = scaler.fit_transform(X_train_numerical)\n",
        "X_test_scaled = scaler.transform(X_test_numerical)\n",
        "\n",
        "\n",
        "knn_classifier = KNeighborsClassifier(n_neighbors=3)\n",
        "knn_classifier.fit(X_train_scaled, y_train)\n",
        "\n",
        "y_pred_train = knn_classifier.predict(X_train_scaled)\n",
        "y_pred_test = knn_classifier.predict(X_test_scaled)\n",
        "\n",
        "print(\"Confusion Matrix (Test Data):\\n\", confusion_matrix(y_test, y_pred_test))\n",
        "\n",
        "print(\"\\nClassification Report (Training Data):\\n\", classification_report(y_train, y_pred_train))\n",
        "print(\"\\nClassification Report (Test Data):\\n\", classification_report(y_test, y_pred_test))\n",
        "\n"
      ],
      "metadata": {
        "colab": {
          "base_uri": "https://localhost:8080/"
        },
        "id": "G-COUgJNWtuP",
        "outputId": "49d0b2ec-8abc-47df-9624-e03c17d9ef66"
      },
      "execution_count": 13,
      "outputs": [
        {
          "output_type": "stream",
          "name": "stdout",
          "text": [
            "Confusion Matrix (Test Data):\n",
            " [[2985  139]\n",
            " [ 320  255]]\n",
            "\n",
            "Classification Report (Training Data):\n",
            "               precision    recall  f1-score   support\n",
            "\n",
            "       False       0.93      0.98      0.95      7298\n",
            "        True       0.83      0.59      0.69      1333\n",
            "\n",
            "    accuracy                           0.92      8631\n",
            "   macro avg       0.88      0.79      0.82      8631\n",
            "weighted avg       0.91      0.92      0.91      8631\n",
            "\n",
            "\n",
            "Classification Report (Test Data):\n",
            "               precision    recall  f1-score   support\n",
            "\n",
            "       False       0.90      0.96      0.93      3124\n",
            "        True       0.65      0.44      0.53       575\n",
            "\n",
            "    accuracy                           0.88      3699\n",
            "   macro avg       0.78      0.70      0.73      3699\n",
            "weighted avg       0.86      0.88      0.87      3699\n",
            "\n"
          ]
        }
      ]
    }
  ]
}